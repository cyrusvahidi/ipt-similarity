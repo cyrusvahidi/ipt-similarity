{
 "cells": [
  {
   "cell_type": "code",
   "execution_count": 6,
   "id": "92ce2602",
   "metadata": {},
   "outputs": [],
   "source": [
    "from __future__ import print_function\n",
    "from ipywidgets import interact, interactive, fixed, interact_manual\n",
    "import ipywidgets as widgets\n",
    "import timbremetrics\n",
    "import IPython.display as ipd\n",
    "import soundfile as sf\n",
    "\n",
    "SR = 44100\n",
    "\n",
    "audio = timbremetrics.get_audio()\n",
    "datasets = list(audio.keys())"
   ]
  },
  {
   "cell_type": "code",
   "execution_count": 9,
   "id": "e2250b99",
   "metadata": {},
   "outputs": [
    {
     "data": {
      "application/vnd.jupyter.widget-view+json": {
       "model_id": "5f653a6059eb4233b30f4ad6a535d3e4",
       "version_major": 2,
       "version_minor": 0
      },
      "text/plain": [
       "interactive(children=(Dropdown(description='dataset', options=('Barthet2010', 'Grey1977', 'Grey1978', 'Iverson…"
      ]
     },
     "metadata": {},
     "output_type": "display_data"
    }
   ],
   "source": [
    "def load_dataset(dataset):\n",
    "    w = widgets.IntSlider(min=0, max=len(audio[dataset]) - 1, step=1, value=0)\n",
    "    def show_audio(idx):\n",
    "        ipd.display(ipd.Audio(audio[dataset][idx]['audio'], rate=SR))\n",
    "\n",
    "    interact(show_audio, idx=w);\n",
    "\n",
    "interact(load_dataset, dataset=widgets.Dropdown(options=datasets, disabled=False));"
   ]
  },
  {
   "cell_type": "markdown",
   "id": "25872b1b",
   "metadata": {},
   "source": [
    "### listen to augmented sounds"
   ]
  },
  {
   "cell_type": "code",
   "execution_count": null,
   "id": "e25cb169",
   "metadata": {},
   "outputs": [],
   "source": [
    "import os \n",
    "\n",
    "path = '/homes/cv300/Documents/contrastive-timbre/jtfs_Q3_aug_pitch/'\n",
    "dataset = 'Barthet2010'\n",
    "path_to_sounds = os.path.join(path, dataset)\n",
    "dirs = [os.path.join(path_to_sounds, d) for d in os.listdir(path_to_sounds)]\n",
    "files"
   ]
  },
  {
   "cell_type": "code",
   "execution_count": null,
   "id": "c9ea198f",
   "metadata": {},
   "outputs": [],
   "source": [
    "def load_augmentations(d):\n",
    "    path = os.path.join(path_to_sounds, d)\n",
    "    files = os.listdir(path)\n",
    "    n_files = len(files)\n",
    "    w = widgets.IntSlider(min=0, max=n_files - 1, step=1, value=0)\n",
    "    def show_audio(idx):\n",
    "        file = os.path.join(path, files[idx])\n",
    "        ipd.display(ipd.Audio(sf.read(file)[0], rate=SR))\n",
    "\n",
    "    interact(show_audio, idx=w);\n",
    "\n",
    "interact(load_augmentations, d=widgets.Dropdown(options=os.listdir(path_to_sounds), disabled=False));"
   ]
  },
  {
   "cell_type": "markdown",
   "id": "34a2a1f6",
   "metadata": {},
   "source": [
    "### Histograms of magnitudes"
   ]
  },
  {
   "cell_type": "code",
   "execution_count": 2,
   "id": "c50475f0",
   "metadata": {},
   "outputs": [],
   "source": [
    "import os, numpy as np\n",
    "data_path = \"/homes/cv300/Documents/timbre-metric/datasets/jtfs_Q3_J8_F1\"\n",
    "dirs = [os.path.join(data_path, d) for d in os.listdir(data_path)]\n",
    "files = [os.path.join(p, f) for p in dirs for f in os.listdir(p)]\n",
    "Sx = np.stack([np.load(f) for f in files])\n",
    "\n",
    "mu = np.load(\"/homes/cv300/Documents/timbre-metric/datasets/jtfs_Q3_J8_F1/stats/mu.npy\")"
   ]
  },
  {
   "cell_type": "code",
   "execution_count": 35,
   "id": "1da2a839",
   "metadata": {},
   "outputs": [
    {
     "data": {
      "text/plain": [
       "0.09414378"
      ]
     },
     "execution_count": 35,
     "metadata": {},
     "output_type": "execute_result"
    }
   ],
   "source": [
    "import matplotlib.pyplot as plt\n",
    "import seaborn as sns\n",
    "import scipy.stats as stat\n",
    "\n",
    "S2 = np.log1p(Sx / (1e-2 * mu[None, :]))\n",
    "\n",
    "idx = 0\n",
    "\n",
    "# sns.histplot(S2[:, idx], bins='auto', kde=True)\n",
    "\n",
    "np.mean(stat.skew(S2, axis=0))"
   ]
  },
  {
   "cell_type": "code",
   "execution_count": null,
   "id": "2d96dc8c",
   "metadata": {},
   "outputs": [],
   "source": []
  }
 ],
 "metadata": {
  "kernelspec": {
   "display_name": "Python 3 (ipykernel)",
   "language": "python",
   "name": "python3"
  },
  "language_info": {
   "codemirror_mode": {
    "name": "ipython",
    "version": 3
   },
   "file_extension": ".py",
   "mimetype": "text/x-python",
   "name": "python",
   "nbconvert_exporter": "python",
   "pygments_lexer": "ipython3",
   "version": "3.8.2"
  }
 },
 "nbformat": 4,
 "nbformat_minor": 5
}
