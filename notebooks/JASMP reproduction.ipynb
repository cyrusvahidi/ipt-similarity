{
 "cells": [
  {
   "cell_type": "code",
   "execution_count": 1,
   "id": "c3eb0327",
   "metadata": {},
   "outputs": [],
   "source": [
    "import scipy.io as sio, os\n",
    "import pandas as pd\n",
    "import gin\n",
    "from stmetric.data.loaders import SOLTripletRatioDataset\n",
    "import torch\n",
    "\n",
    "sim = \"/homes/cv300/Documents/timbre-metric/notebooks/lostanlen2020jasmp/experiments/similarity/ticelJudgments.mat\"\n",
    "\n",
    "mat = sio.loadmat(sim)\n",
    "labels = mat['ensemble']"
   ]
  },
  {
   "cell_type": "code",
   "execution_count": 2,
   "id": "43d7110f",
   "metadata": {},
   "outputs": [
    {
     "data": {
      "text/plain": [
       "(31, 78)"
      ]
     },
     "execution_count": 2,
     "metadata": {},
     "output_type": "execute_result"
    }
   ],
   "source": [
    "mat['ci'].shape"
   ]
  },
  {
   "cell_type": "code",
   "execution_count": 3,
   "id": "0760c8e4",
   "metadata": {},
   "outputs": [
    {
     "data": {
      "text/plain": [
       "array([ 6,  6,  1,  4,  4, 12, 12, 11, 14,  1,  1, 11, 11, 14, 14, 14, 14,\n",
       "       11,  8, 11, 14, 14, 14, 11,  1, 11, 11, 11,  6, 11,  6,  6,  6, 11,\n",
       "       11, 11, 13,  1, 11,  6,  6,  6,  5, 11, 11, 11,  6,  8,  1,  6,  6,\n",
       "       11,  8, 13,  1,  3,  2,  3,  3,  3, 10,  6, 13,  7,  6,  6, 10,  1,\n",
       "       11,  9, 12,  7,  5, 14, 11, 11, 11, 11], dtype=uint8)"
      ]
     },
     "execution_count": 3,
     "metadata": {},
     "output_type": "execute_result"
    }
   ],
   "source": [
    "labels = mat['ci'][0]\n",
    "labels"
   ]
  },
  {
   "cell_type": "code",
   "execution_count": 3,
   "id": "8d4faa0f",
   "metadata": {},
   "outputs": [
    {
     "name": "stdout",
     "output_type": "stream",
     "text": [
      "loading SOL seed and extended files\n",
      "loading SOL features ...\n",
      "loading triplets\n"
     ]
    },
    {
     "name": "stderr",
     "output_type": "stream",
     "text": [
      "100%|████████████████████████████████████████████████████████████████████████████████████████████████████████████████████████████████████████████████| 78/78 [00:03<00:00, 19.62it/s]\n"
     ]
    }
   ],
   "source": [
    "gin.enter_interactive_mode()\n",
    "gin.parse_config_file('/homes/cv300/Documents/timbre-metric/gin/doce/sol_template.gin')\n",
    "ds = SOLTripletRatioDataset(test_instr=None, k=None, extend=True, feature='jtfs')"
   ]
  },
  {
   "cell_type": "code",
   "execution_count": 4,
   "id": "a13a663a",
   "metadata": {},
   "outputs": [
    {
     "name": "stdout",
     "output_type": "stream",
     "text": [
      "p@5 for subject 0: 0.7706454707414006\n",
      "p@5 for subject 1: 0.9259421680142524\n",
      "p@5 for subject 2: 0.7975332328354118\n",
      "p@5 for subject 3: 0.9145128134849938\n",
      "p@5 for subject 4: 0.6559133890639989\n",
      "p@5 for subject 5: 0.8192956009318898\n",
      "p@5 for subject 6: 0.734795121282719\n",
      "p@5 for subject 7: 0.6641359462792928\n",
      "p@5 for subject 8: 0.8169932849116075\n",
      "p@5 for subject 9: 0.7179114704673153\n",
      "p@5 for subject 10: 0.7199397012470878\n",
      "p@5 for subject 11: 0.8148280115115801\n",
      "p@5 for subject 12: 0.8739756064135946\n",
      "p@5 for subject 13: 0.7929286007948472\n",
      "p@5 for subject 14: 0.6436891873372619\n",
      "p@5 for subject 15: 0.8103604220912703\n",
      "p@5 for subject 16: 0.7689187337261888\n",
      "p@5 for subject 17: 0.6525147320816774\n",
      "p@5 for subject 18: 0.8743319172262574\n",
      "p@5 for subject 19: 0.8629847882691517\n",
      "p@5 for subject 20: 0.8168288337673016\n",
      "p@5 for subject 21: 0.780951075784569\n",
      "p@5 for subject 22: 0.7869535425517336\n",
      "p@5 for subject 23: 0.870659175003426\n"
     ]
    },
    {
     "ename": "KeyboardInterrupt",
     "evalue": "",
     "output_type": "error",
     "traceback": [
      "\u001b[0;31m---------------------------------------------------------------------------\u001b[0m",
      "\u001b[0;31mKeyboardInterrupt\u001b[0m                         Traceback (most recent call last)",
      "\u001b[0;32m/tmp/ipykernel_159492/36327476.py\u001b[0m in \u001b[0;36m<module>\u001b[0;34m\u001b[0m\n\u001b[1;32m     24\u001b[0m     \u001b[0mn_total\u001b[0m \u001b[0;34m=\u001b[0m \u001b[0;36m0\u001b[0m\u001b[0;34m\u001b[0m\u001b[0;34m\u001b[0m\u001b[0m\n\u001b[1;32m     25\u001b[0m     \u001b[0;32mfor\u001b[0m \u001b[0mi\u001b[0m \u001b[0;32min\u001b[0m \u001b[0mrange\u001b[0m\u001b[0;34m(\u001b[0m\u001b[0mlen\u001b[0m\u001b[0;34m(\u001b[0m\u001b[0mpdists\u001b[0m\u001b[0;34m)\u001b[0m\u001b[0;34m)\u001b[0m\u001b[0;34m:\u001b[0m\u001b[0;34m\u001b[0m\u001b[0;34m\u001b[0m\u001b[0m\n\u001b[0;32m---> 26\u001b[0;31m         \u001b[0mn_correct\u001b[0m \u001b[0;34m+=\u001b[0m \u001b[0mprecision_at_k\u001b[0m\u001b[0;34m(\u001b[0m\u001b[0mpdists\u001b[0m\u001b[0;34m,\u001b[0m \u001b[0mi\u001b[0m\u001b[0;34m,\u001b[0m \u001b[0mlabels\u001b[0m\u001b[0;34m)\u001b[0m\u001b[0;34m\u001b[0m\u001b[0;34m\u001b[0m\u001b[0m\n\u001b[0m\u001b[1;32m     27\u001b[0m         \u001b[0mn_total\u001b[0m \u001b[0;34m+=\u001b[0m \u001b[0;36m5\u001b[0m\u001b[0;34m\u001b[0m\u001b[0;34m\u001b[0m\u001b[0m\n\u001b[1;32m     28\u001b[0m     \u001b[0mprint\u001b[0m\u001b[0;34m(\u001b[0m\u001b[0;34mf\"p@5 for subject {n}: {n_correct / n_total}\"\u001b[0m\u001b[0;34m)\u001b[0m\u001b[0;34m\u001b[0m\u001b[0;34m\u001b[0m\u001b[0m\n",
      "\u001b[0;32m/tmp/ipykernel_159492/36327476.py\u001b[0m in \u001b[0;36mprecision_at_k\u001b[0;34m(pdists, idx, labels, k)\u001b[0m\n\u001b[1;32m      8\u001b[0m \u001b[0;32mdef\u001b[0m \u001b[0mprecision_at_k\u001b[0m\u001b[0;34m(\u001b[0m\u001b[0mpdists\u001b[0m\u001b[0;34m,\u001b[0m \u001b[0midx\u001b[0m\u001b[0;34m,\u001b[0m \u001b[0mlabels\u001b[0m\u001b[0;34m,\u001b[0m \u001b[0mk\u001b[0m\u001b[0;34m=\u001b[0m\u001b[0;36m5\u001b[0m\u001b[0;34m)\u001b[0m\u001b[0;34m:\u001b[0m\u001b[0;34m\u001b[0m\u001b[0;34m\u001b[0m\u001b[0m\n\u001b[1;32m      9\u001b[0m     \u001b[0;31m# get top k queries\u001b[0m\u001b[0;34m\u001b[0m\u001b[0;34m\u001b[0m\u001b[0;34m\u001b[0m\u001b[0m\n\u001b[0;32m---> 10\u001b[0;31m     \u001b[0msorted_idxs\u001b[0m \u001b[0;34m=\u001b[0m \u001b[0mpdists\u001b[0m\u001b[0;34m[\u001b[0m\u001b[0midx\u001b[0m\u001b[0;34m]\u001b[0m\u001b[0;34m.\u001b[0m\u001b[0margsort\u001b[0m\u001b[0;34m(\u001b[0m\u001b[0;34m)\u001b[0m\u001b[0;34m\u001b[0m\u001b[0;34m\u001b[0m\u001b[0m\n\u001b[0m\u001b[1;32m     11\u001b[0m     \u001b[0mtop_k\u001b[0m \u001b[0;34m=\u001b[0m \u001b[0msorted_idxs\u001b[0m\u001b[0;34m[\u001b[0m\u001b[0msorted_idxs\u001b[0m \u001b[0;34m!=\u001b[0m \u001b[0mi\u001b[0m\u001b[0;34m]\u001b[0m\u001b[0;34m[\u001b[0m\u001b[0;34m:\u001b[0m\u001b[0mk\u001b[0m\u001b[0;34m]\u001b[0m\u001b[0;34m\u001b[0m\u001b[0;34m\u001b[0m\u001b[0m\n\u001b[1;32m     12\u001b[0m     \u001b[0;31m# convert all items to their seed idx\u001b[0m\u001b[0;34m\u001b[0m\u001b[0;34m\u001b[0m\u001b[0;34m\u001b[0m\u001b[0m\n",
      "\u001b[0;31mKeyboardInterrupt\u001b[0m: "
     ]
    }
   ],
   "source": [
    "import torch.nn.functional as F\n",
    "import numpy as np\n",
    "\n",
    "# compute pairwise euclidean distance matrix on features\n",
    "# pdists = F.pairwise_distance(ds.features, ds.features[:, None, :])\n",
    "pdists = torch.cdist(ds.features, ds.features)\n",
    "\n",
    "def precision_at_k(pdists, idx, labels, k=5):\n",
    "    # get top k queries\n",
    "    sorted_idxs = pdists[idx].argsort()\n",
    "    top_k = sorted_idxs[sorted_idxs != i][:k]\n",
    "    # convert all items to their seed idx\n",
    "    top_k = np.array([ds.ext_to_seed[int(i)] for i in top_k]) \n",
    "    top_k_labels = labels[top_k] \n",
    "    anchor_label = labels[ds.ext_to_seed[idx]]\n",
    "    \n",
    "    n_correct = (anchor_label == top_k_labels).sum()\n",
    "    return n_correct\n",
    "\n",
    "p_at_5 = 0\n",
    "for n in range(mat['ci'].shape[0]):\n",
    "    labels = mat['ci'][n]\n",
    "    n_correct = 0\n",
    "    n_total = 0\n",
    "    for i in range(len(pdists)):\n",
    "        n_correct += precision_at_k(pdists, i, labels)\n",
    "        n_total += 5\n",
    "    print(f\"p@5 for subject {n}: {n_correct / n_total}\")\n",
    "    p_at_5 += n_correct / n_total\n",
    "    \n",
    "print(f\"mean p@5: {p_at_5 / mat['ci'].shape[0]}\")"
   ]
  },
  {
   "cell_type": "code",
   "execution_count": 11,
   "id": "e78bc537",
   "metadata": {},
   "outputs": [
    {
     "name": "stdout",
     "output_type": "stream",
     "text": [
      "p@5 for ensemble: 0.5861167002012072\n"
     ]
    }
   ],
   "source": [
    "labels = mat['ensemble'][0]\n",
    "n_correct = 0\n",
    "n_total = 0\n",
    "for i in range(len(pdists)):\n",
    "    n_correct += precision_at_k(pdists, i, labels)\n",
    "    n_total += 5\n",
    "print(f\"p@5 for ensemble: {n_correct / n_total}\")"
   ]
  },
  {
   "cell_type": "code",
   "execution_count": 19,
   "id": "11cb324d",
   "metadata": {},
   "outputs": [
    {
     "data": {
      "text/plain": [
       "<matplotlib.image.AxesImage at 0x7f186c7b1580>"
      ]
     },
     "execution_count": 19,
     "metadata": {},
     "output_type": "execute_result"
    },
    {
     "data": {
      "image/png": "[encoded data removed]",
      "text/plain": [
       "<Figure size 432x288 with 1 Axes>"
      ]
     },
     "metadata": {
      "needs_background": "light"
     },
     "output_type": "display_data"
    }
   ],
   "source": [
    "plt.imshow(ds.features[0, :, None], aspect='au')"
   ]
  },
  {
   "cell_type": "code",
   "execution_count": null,
   "id": "db01babd",
   "metadata": {},
   "outputs": [],
   "source": []
  }
 ],
 "metadata": {
  "kernelspec": {
   "display_name": "Python 3 (ipykernel)",
   "language": "python",
   "name": "python3"
  },
  "language_info": {
   "codemirror_mode": {
    "name": "ipython",
    "version": 3
   },
   "file_extension": ".py",
   "mimetype": "text/x-python",
   "name": "python",
   "nbconvert_exporter": "python",
   "pygments_lexer": "ipython3",
   "version": "3.8.2"
  }
 },
 "nbformat": 4,
 "nbformat_minor": 5
}
