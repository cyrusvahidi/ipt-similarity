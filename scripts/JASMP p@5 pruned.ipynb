{
 "cells": [
  {
   "cell_type": "code",
   "execution_count": 1,
   "id": "0199e7f9",
   "metadata": {},
   "outputs": [],
   "source": [
    "import pandas as pd\n",
    "\n",
    "df = pd.read_csv('/homes/cv300/Documents/timbre-metric/scripts/jasmp_sol_p5.csv')\n",
    "df_pruned = pd.read_csv('/homes/cv300/Documents/timbre-metric/scripts/jasmp_sol_p5_pruned.csv')\n",
    "df_ol3_p = pd.read_csv('/homes/cv300/Documents/timbre-metric/scripts/jasmp_sol_p5_openl3_pruned.csv')\n",
    "df_ol3 = pd.read_csv('/homes/cv300/Documents/timbre-metric/scripts/jasmp_sol_p5_openl3.csv')\n",
    "\n",
    "\n",
    "df['p@5 pruned'] = df_pruned['p@5']\n",
    "df['p@5 pruned openl3'] = df_ol3_p['p@5']\n",
    "df['p@5 openl3'] = df_ol3['p@5']"
   ]
  },
  {
   "cell_type": "code",
   "execution_count": 2,
   "id": "0ee6e919",
   "metadata": {},
   "outputs": [
    {
     "data": {
      "text/plain": [
       "[<matplotlib.lines.Line2D at 0x7efc8f7bcf10>]"
      ]
     },
     "execution_count": 2,
     "metadata": {},
     "output_type": "execute_result"
    },
    {
     "data": {
      "image/png": "[encoded data removed]",
      "text/plain": [
       "<Figure size 432x288 with 1 Axes>"
      ]
     },
     "metadata": {
      "needs_background": "light"
     },
     "output_type": "display_data"
    }
   ],
   "source": [
    "import matplotlib.pyplot as plt, numpy as np\n",
    "from matplotlib.pyplot import cm\n",
    "df.boxplot(column=['p@5', 'p@5 pruned', 'p@5 openl3', 'p@5 pruned openl3'], vert=False)\n",
    "plt.gca().xaxis.grid(True)\n",
    "plt.gca().yaxis.grid(False)\n",
    "\n",
    "n_sub = len(df['p@5'])\n",
    "color = cm.rainbow(np.linspace(0, 1, n_sub))\n",
    "plt.plot(df['p@5'], np.ones(n_sub), 'r.', alpha=0.8)\n",
    "plt.plot(df['p@5 pruned'], np.ones(n_sub) + 1, 'r.', alpha=0.8)"
   ]
  },
  {
   "cell_type": "code",
   "execution_count": null,
   "id": "3ec6f1c6",
   "metadata": {},
   "outputs": [],
   "source": []
  }
 ],
 "metadata": {
  "kernelspec": {
   "display_name": "Python 3 (ipykernel)",
   "language": "python",
   "name": "python3"
  },
  "language_info": {
   "codemirror_mode": {
    "name": "ipython",
    "version": 3
   },
   "file_extension": ".py",
   "mimetype": "text/x-python",
   "name": "python",
   "nbconvert_exporter": "python",
   "pygments_lexer": "ipython3",
   "version": "3.8.2"
  }
 },
 "nbformat": 4,
 "nbformat_minor": 5
}
