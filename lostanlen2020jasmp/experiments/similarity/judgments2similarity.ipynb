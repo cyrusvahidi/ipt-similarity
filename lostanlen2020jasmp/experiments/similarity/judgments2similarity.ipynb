{
 "cells": [
  {
   "cell_type": "code",
   "execution_count": 1,
   "metadata": {},
   "outputs": [],
   "source": [
    "import numpy as np\n",
    "import scipy.io as sio "
   ]
  },
  {
   "cell_type": "code",
   "execution_count": 2,
   "metadata": {},
   "outputs": [],
   "source": [
    "mat = sio.loadmat('ticelJudgments.mat')\n",
    "\n",
    "# name of the 78 IPTs\n",
    "names = mat['names'][0]\n",
    "\n",
    "# groups indexes given by the 31 subjects. groups[1, 3]=groups[1, 2], then subject 1 grouped IPT 2 and 3 together \n",
    "groups = mat['ci']"
   ]
  },
  {
   "cell_type": "code",
   "execution_count": 3,
   "metadata": {},
   "outputs": [],
   "source": [
    "ensemble = mat['ensemble'][0]"
   ]
  },
  {
   "cell_type": "code",
   "execution_count": 4,
   "metadata": {},
   "outputs": [
    {
     "data": {
      "text/plain": [
       "instrument family  label\n",
       "Brass              10       6\n",
       "                   3        5\n",
       "                   13       5\n",
       "                   11       2\n",
       "                   14       2\n",
       "PluckedStrings     8        5\n",
       "                   5        2\n",
       "                   9        1\n",
       "Strings            18       7\n",
       "                   9        5\n",
       "                   19       5\n",
       "                   5        4\n",
       "                   15       4\n",
       "                   6        2\n",
       "                   7        2\n",
       "                   8        2\n",
       "                   16       2\n",
       "                   12       1\n",
       "                   17       1\n",
       "Woodwind           17       4\n",
       "                   1        3\n",
       "                   2        2\n",
       "                   4        2\n",
       "                   3        1\n",
       "                   12       1\n",
       "                   14       1\n",
       "                   15       1\n",
       "Name: label, dtype: int64"
      ]
     },
     "execution_count": 4,
     "metadata": {},
     "output_type": "execute_result"
    }
   ],
   "source": [
    "import pandas as pd\n",
    "df = pd.read_csv(\"/homes/cv300/Documents/ipt-similarity/jasmp/seed_filelist.csv\", index_col=0)\n",
    "df['label'] = ensemble\n",
    "df.groupby(\"instrument family\")['label'].value_counts()"
   ]
  },
  {
   "cell_type": "code",
   "execution_count": 5,
   "metadata": {},
   "outputs": [
    {
     "name": "stdout",
     "output_type": "stream",
     "text": [
      "(78, 78)\n"
     ]
    }
   ],
   "source": [
    "sim = np.zeros((len(names), len(names)))\n",
    "print(sim.shape)\n",
    "for s in range(groups.shape[0]):\n",
    "    for n in range(len(names)):\n",
    "        for m in range(len(names)):\n",
    "            if groups[s, n] == groups[s, m]:\n",
    "                sim[n, m] += 1"
   ]
  },
  {
   "cell_type": "code",
   "execution_count": 11,
   "metadata": {},
   "outputs": [],
   "source": [
    "np.savez('ticelSimilarity.npz', names=names, groups=groups, similarity=sim)"
   ]
  },
  {
   "cell_type": "code",
   "execution_count": 6,
   "metadata": {},
   "outputs": [
    {
     "data": {
      "text/plain": [
       "844"
      ]
     },
     "execution_count": 6,
     "metadata": {},
     "output_type": "execute_result"
    }
   ],
   "source": [
    "bsim = np.where((sim / 31) > 0.5, 1, 0)\n",
    "bsim.sum()"
   ]
  },
  {
   "cell_type": "code",
   "execution_count": 21,
   "metadata": {},
   "outputs": [
    {
     "data": {
      "text/plain": [
       "array([10, 10, 13, 10, 10, 13, 13, 14, 13, 10, 14, 14], dtype=uint8)"
      ]
     },
     "execution_count": 21,
     "metadata": {},
     "output_type": "execute_result"
    }
   ],
   "source": [
    "ensemble[np.where(bsim[20])]"
   ]
  },
  {
   "cell_type": "code",
   "execution_count": null,
   "metadata": {},
   "outputs": [
    {
     "name": "stdout",
     "output_type": "stream",
     "text": [
      "Loading seed files ...\n"
     ]
    },
    {
     "name": "stderr",
     "output_type": "stream",
     "text": [
      "78it [00:00, 3736.32it/s]\n"
     ]
    },
    {
     "name": "stdout",
     "output_type": "stream",
     "text": [
      "Loading extended files ...\n"
     ]
    },
    {
     "name": "stderr",
     "output_type": "stream",
     "text": [
      "100%|███████████████████████████████████████████████████████████████████████████████| 7241/7241 [00:00<00:00, 8152.06it/s]\n",
      " 63%|██████████████████████████████████████████████████▌                             | 4629/7319 [00:19<00:11, 242.72it/s]"
     ]
    }
   ],
   "source": [
    "from ipt_sim.data import IptSimDataset\n",
    "import os, tqdm\n",
    "os.chdir(\"/homes/cv300/Documents/ipt-similarity/\")\n",
    "\n",
    "ds = IptSimDataset(feature=\"rand\")\n",
    "\n",
    "A = np.zeros((len(ds), len(ds)))\n",
    "\n",
    "for i in tqdm.tqdm(range(A.shape[0])):\n",
    "    i_seed = ds.filelist[i]['seed_id']\n",
    "    for j in range(A.shape[1]):\n",
    "        j_seed = ds.filelist[j]['seed_id']\n",
    "        \n",
    "        A[i, j] = bsim[i_seed, j_seed]\n",
    "np.save(\"./jasmp/adjacency.mat\", A)"
   ]
  },
  {
   "cell_type": "code",
   "execution_count": null,
   "metadata": {},
   "outputs": [],
   "source": []
  }
 ],
 "metadata": {
  "kernelspec": {
   "display_name": "Python 3 (ipykernel)",
   "language": "python",
   "name": "python3"
  },
  "language_info": {
   "codemirror_mode": {
    "name": "ipython",
    "version": 3
   },
   "file_extension": ".py",
   "mimetype": "text/x-python",
   "name": "python",
   "nbconvert_exporter": "python",
   "pygments_lexer": "ipython3",
   "version": "3.8.2"
  },
  "vscode": {
   "interpreter": {
    "hash": "fcadfae7c372984d5f9a8d2a0d6b9bf157d42becd6f9b0030acea3fd37f7f870"
   }
  }
 },
 "nbformat": 4,
 "nbformat_minor": 2
}
